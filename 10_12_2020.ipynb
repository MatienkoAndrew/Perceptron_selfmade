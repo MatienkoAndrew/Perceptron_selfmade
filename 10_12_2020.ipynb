{
 "cells": [
  {
   "cell_type": "code",
   "execution_count": 1,
   "metadata": {},
   "outputs": [],
   "source": [
    "import pandas as pd\n",
    "import numpy as np\n",
    "from matplotlib import pyplot as plt\n",
    "from scipy.stats import truncnorm"
   ]
  },
  {
   "cell_type": "code",
   "execution_count": 2,
   "metadata": {},
   "outputs": [
    {
     "data": {
      "text/html": [
       "<div>\n",
       "<style scoped>\n",
       "    .dataframe tbody tr th:only-of-type {\n",
       "        vertical-align: middle;\n",
       "    }\n",
       "\n",
       "    .dataframe tbody tr th {\n",
       "        vertical-align: top;\n",
       "    }\n",
       "\n",
       "    .dataframe thead th {\n",
       "        text-align: right;\n",
       "    }\n",
       "</style>\n",
       "<table border=\"1\" class=\"dataframe\">\n",
       "  <thead>\n",
       "    <tr style=\"text-align: right;\">\n",
       "      <th></th>\n",
       "      <th>Dosage</th>\n",
       "    </tr>\n",
       "  </thead>\n",
       "  <tbody>\n",
       "    <tr>\n",
       "      <th>0</th>\n",
       "      <td>0.0</td>\n",
       "    </tr>\n",
       "    <tr>\n",
       "      <th>1</th>\n",
       "      <td>0.5</td>\n",
       "    </tr>\n",
       "    <tr>\n",
       "      <th>2</th>\n",
       "      <td>1.0</td>\n",
       "    </tr>\n",
       "  </tbody>\n",
       "</table>\n",
       "</div>"
      ],
      "text/plain": [
       "   Dosage\n",
       "0     0.0\n",
       "1     0.5\n",
       "2     1.0"
      ]
     },
     "execution_count": 2,
     "metadata": {},
     "output_type": "execute_result"
    }
   ],
   "source": [
    "X = pd.DataFrame(np.linspace(0, 1, num=3).reshape(-1, 1), columns=['Dosage'])\n",
    "X"
   ]
  },
  {
   "cell_type": "code",
   "execution_count": 3,
   "metadata": {},
   "outputs": [
    {
     "data": {
      "text/plain": [
       "array([[0],\n",
       "       [1],\n",
       "       [0]])"
      ]
     },
     "execution_count": 3,
     "metadata": {},
     "output_type": "execute_result"
    }
   ],
   "source": [
    "target = np.array([0, 1, 0]).reshape(-1, 1)\n",
    "target"
   ]
  },
  {
   "cell_type": "markdown",
   "metadata": {},
   "source": [
    "# 1. Initialize Network"
   ]
  },
  {
   "cell_type": "code",
   "execution_count": 43,
   "metadata": {},
   "outputs": [],
   "source": [
    "def init_weights(X, n_neurons, random_state=42):\n",
    "    n_inputs = int(X.shape[1])\n",
    "    stddev = 2 / np.sqrt(n_inputs + n_neurons)\n",
    "    b = np.zeros(n_neurons)\n",
    "    weights = truncnorm.rvs(-1, 1, size=(n_inputs, n_neurons), scale=stddev, random_state=random_state)\n",
    "    \n",
    "    return pd.DataFrame(weights), b"
   ]
  },
  {
   "cell_type": "code",
   "execution_count": 44,
   "metadata": {},
   "outputs": [
    {
     "name": "stdout",
     "output_type": "stream",
     "text": [
      "          0         1\n",
      "0 -0.249842  1.003948\n"
     ]
    },
    {
     "data": {
      "text/plain": [
       "array([0., 0.])"
      ]
     },
     "execution_count": 44,
     "metadata": {},
     "output_type": "execute_result"
    }
   ],
   "source": [
    "weights, biases = init_weights(X, 2)\n",
    "print(weights)\n",
    "biases"
   ]
  },
  {
   "cell_type": "markdown",
   "metadata": {},
   "source": [
    "# 2. Forward Propagate"
   ]
  },
  {
   "cell_type": "code",
   "execution_count": 45,
   "metadata": {},
   "outputs": [],
   "source": [
    "def softmax(x):\n",
    "    return np.log(1 + np.exp(x))"
   ]
  },
  {
   "cell_type": "code",
   "execution_count": 46,
   "metadata": {},
   "outputs": [],
   "source": [
    "def crossenthropy(x):\n",
    "    return 1. / (1. + np.exp(-x))"
   ]
  },
  {
   "cell_type": "code",
   "execution_count": 47,
   "metadata": {},
   "outputs": [
    {
     "data": {
      "text/html": [
       "<div>\n",
       "<style scoped>\n",
       "    .dataframe tbody tr th:only-of-type {\n",
       "        vertical-align: middle;\n",
       "    }\n",
       "\n",
       "    .dataframe tbody tr th {\n",
       "        vertical-align: top;\n",
       "    }\n",
       "\n",
       "    .dataframe thead th {\n",
       "        text-align: right;\n",
       "    }\n",
       "</style>\n",
       "<table border=\"1\" class=\"dataframe\">\n",
       "  <thead>\n",
       "    <tr style=\"text-align: right;\">\n",
       "      <th></th>\n",
       "      <th>Dosage</th>\n",
       "    </tr>\n",
       "  </thead>\n",
       "  <tbody>\n",
       "    <tr>\n",
       "      <th>0</th>\n",
       "      <td>0.0</td>\n",
       "    </tr>\n",
       "    <tr>\n",
       "      <th>1</th>\n",
       "      <td>0.5</td>\n",
       "    </tr>\n",
       "    <tr>\n",
       "      <th>2</th>\n",
       "      <td>1.0</td>\n",
       "    </tr>\n",
       "  </tbody>\n",
       "</table>\n",
       "</div>"
      ],
      "text/plain": [
       "   Dosage\n",
       "0     0.0\n",
       "1     0.5\n",
       "2     1.0"
      ]
     },
     "execution_count": 47,
     "metadata": {},
     "output_type": "execute_result"
    }
   ],
   "source": [
    "X"
   ]
  },
  {
   "cell_type": "code",
   "execution_count": 48,
   "metadata": {},
   "outputs": [
    {
     "data": {
      "text/html": [
       "<div>\n",
       "<style scoped>\n",
       "    .dataframe tbody tr th:only-of-type {\n",
       "        vertical-align: middle;\n",
       "    }\n",
       "\n",
       "    .dataframe tbody tr th {\n",
       "        vertical-align: top;\n",
       "    }\n",
       "\n",
       "    .dataframe thead th {\n",
       "        text-align: right;\n",
       "    }\n",
       "</style>\n",
       "<table border=\"1\" class=\"dataframe\">\n",
       "  <thead>\n",
       "    <tr style=\"text-align: right;\">\n",
       "      <th></th>\n",
       "      <th>0</th>\n",
       "      <th>1</th>\n",
       "    </tr>\n",
       "  </thead>\n",
       "  <tbody>\n",
       "    <tr>\n",
       "      <th>0</th>\n",
       "      <td>-0.249842</td>\n",
       "      <td>1.003948</td>\n",
       "    </tr>\n",
       "  </tbody>\n",
       "</table>\n",
       "</div>"
      ],
      "text/plain": [
       "          0         1\n",
       "0 -0.249842  1.003948"
      ]
     },
     "execution_count": 48,
     "metadata": {},
     "output_type": "execute_result"
    }
   ],
   "source": [
    "weights"
   ]
  },
  {
   "cell_type": "code",
   "execution_count": 49,
   "metadata": {},
   "outputs": [
    {
     "data": {
      "text/plain": [
       "array([[ 0.        ,  0.        ],\n",
       "       [-0.12492101,  0.5019739 ],\n",
       "       [-0.24984201,  1.00394781]])"
      ]
     },
     "execution_count": 49,
     "metadata": {},
     "output_type": "execute_result"
    }
   ],
   "source": [
    "np.dot(X, weights)"
   ]
  },
  {
   "cell_type": "code",
   "execution_count": 50,
   "metadata": {},
   "outputs": [
    {
     "data": {
      "text/plain": [
       "array([[ 0.        ,  0.        ],\n",
       "       [-0.12492101,  0.5019739 ],\n",
       "       [-0.24984201,  1.00394781]])"
      ]
     },
     "execution_count": 50,
     "metadata": {},
     "output_type": "execute_result"
    }
   ],
   "source": [
    "np.dot(X, weights) + biases"
   ]
  },
  {
   "cell_type": "code",
   "execution_count": 51,
   "metadata": {},
   "outputs": [],
   "source": [
    "def neuron_layer(X, weights, b, activation=None):\n",
    "    Z = np.dot(X, weights) + b\n",
    "    if activation is not None:\n",
    "        Z = activation(Z)\n",
    "        pass\n",
    "    Z = pd.DataFrame(Z)\n",
    "    return Z"
   ]
  },
  {
   "cell_type": "code",
   "execution_count": 52,
   "metadata": {},
   "outputs": [
    {
     "data": {
      "text/html": [
       "<div>\n",
       "<style scoped>\n",
       "    .dataframe tbody tr th:only-of-type {\n",
       "        vertical-align: middle;\n",
       "    }\n",
       "\n",
       "    .dataframe tbody tr th {\n",
       "        vertical-align: top;\n",
       "    }\n",
       "\n",
       "    .dataframe thead th {\n",
       "        text-align: right;\n",
       "    }\n",
       "</style>\n",
       "<table border=\"1\" class=\"dataframe\">\n",
       "  <thead>\n",
       "    <tr style=\"text-align: right;\">\n",
       "      <th></th>\n",
       "      <th>0</th>\n",
       "      <th>1</th>\n",
       "    </tr>\n",
       "  </thead>\n",
       "  <tbody>\n",
       "    <tr>\n",
       "      <th>0</th>\n",
       "      <td>0.000000</td>\n",
       "      <td>0.000000</td>\n",
       "    </tr>\n",
       "    <tr>\n",
       "      <th>1</th>\n",
       "      <td>-0.124921</td>\n",
       "      <td>0.501974</td>\n",
       "    </tr>\n",
       "    <tr>\n",
       "      <th>2</th>\n",
       "      <td>-0.249842</td>\n",
       "      <td>1.003948</td>\n",
       "    </tr>\n",
       "  </tbody>\n",
       "</table>\n",
       "</div>"
      ],
      "text/plain": [
       "          0         1\n",
       "0  0.000000  0.000000\n",
       "1 -0.124921  0.501974\n",
       "2 -0.249842  1.003948"
      ]
     },
     "execution_count": 52,
     "metadata": {},
     "output_type": "execute_result"
    }
   ],
   "source": [
    "hidden1 = neuron_layer(X, weights, biases, activation=None)\n",
    "hidden1"
   ]
  },
  {
   "cell_type": "code",
   "execution_count": 53,
   "metadata": {},
   "outputs": [
    {
     "data": {
      "text/html": [
       "<div>\n",
       "<style scoped>\n",
       "    .dataframe tbody tr th:only-of-type {\n",
       "        vertical-align: middle;\n",
       "    }\n",
       "\n",
       "    .dataframe tbody tr th {\n",
       "        vertical-align: top;\n",
       "    }\n",
       "\n",
       "    .dataframe thead th {\n",
       "        text-align: right;\n",
       "    }\n",
       "</style>\n",
       "<table border=\"1\" class=\"dataframe\">\n",
       "  <thead>\n",
       "    <tr style=\"text-align: right;\">\n",
       "      <th></th>\n",
       "      <th>0</th>\n",
       "    </tr>\n",
       "  </thead>\n",
       "  <tbody>\n",
       "    <tr>\n",
       "      <th>0</th>\n",
       "      <td>-0.825995</td>\n",
       "    </tr>\n",
       "    <tr>\n",
       "      <th>1</th>\n",
       "      <td>0.216780</td>\n",
       "    </tr>\n",
       "  </tbody>\n",
       "</table>\n",
       "</div>"
      ],
      "text/plain": [
       "          0\n",
       "0 -0.825995\n",
       "1  0.216780"
      ]
     },
     "metadata": {},
     "output_type": "display_data"
    },
    {
     "data": {
      "text/plain": [
       "array([0.])"
      ]
     },
     "execution_count": 53,
     "metadata": {},
     "output_type": "execute_result"
    }
   ],
   "source": [
    "weights_2, biases_2 = init_weights(hidden1, 1, random_state=43)\n",
    "display(weights_2)\n",
    "biases_2"
   ]
  },
  {
   "cell_type": "code",
   "execution_count": 54,
   "metadata": {},
   "outputs": [
    {
     "data": {
      "text/html": [
       "<div>\n",
       "<style scoped>\n",
       "    .dataframe tbody tr th:only-of-type {\n",
       "        vertical-align: middle;\n",
       "    }\n",
       "\n",
       "    .dataframe tbody tr th {\n",
       "        vertical-align: top;\n",
       "    }\n",
       "\n",
       "    .dataframe thead th {\n",
       "        text-align: right;\n",
       "    }\n",
       "</style>\n",
       "<table border=\"1\" class=\"dataframe\">\n",
       "  <thead>\n",
       "    <tr style=\"text-align: right;\">\n",
       "      <th></th>\n",
       "      <th>0</th>\n",
       "    </tr>\n",
       "  </thead>\n",
       "  <tbody>\n",
       "    <tr>\n",
       "      <th>0</th>\n",
       "      <td>0.000000</td>\n",
       "    </tr>\n",
       "    <tr>\n",
       "      <th>1</th>\n",
       "      <td>0.212002</td>\n",
       "    </tr>\n",
       "    <tr>\n",
       "      <th>2</th>\n",
       "      <td>0.424004</td>\n",
       "    </tr>\n",
       "  </tbody>\n",
       "</table>\n",
       "</div>"
      ],
      "text/plain": [
       "          0\n",
       "0  0.000000\n",
       "1  0.212002\n",
       "2  0.424004"
      ]
     },
     "execution_count": 54,
     "metadata": {},
     "output_type": "execute_result"
    }
   ],
   "source": [
    "output = neuron_layer(hidden1, weights_2, biases_2, activation=None)\n",
    "output"
   ]
  },
  {
   "cell_type": "markdown",
   "metadata": {},
   "source": [
    "# 3. Back Propagate Error"
   ]
  },
  {
   "cell_type": "markdown",
   "metadata": {},
   "source": [
    "## Sum of squared residuals\n",
    "\n",
    "$$\\Large SSR = \\sum_{i-1}^n{(Observed_i - Predicted_i)^2}$$"
   ]
  },
  {
   "cell_type": "code",
   "execution_count": 55,
   "metadata": {},
   "outputs": [
    {
     "data": {
      "text/html": [
       "<div>\n",
       "<style scoped>\n",
       "    .dataframe tbody tr th:only-of-type {\n",
       "        vertical-align: middle;\n",
       "    }\n",
       "\n",
       "    .dataframe tbody tr th {\n",
       "        vertical-align: top;\n",
       "    }\n",
       "\n",
       "    .dataframe thead th {\n",
       "        text-align: right;\n",
       "    }\n",
       "</style>\n",
       "<table border=\"1\" class=\"dataframe\">\n",
       "  <thead>\n",
       "    <tr style=\"text-align: right;\">\n",
       "      <th></th>\n",
       "      <th>0</th>\n",
       "    </tr>\n",
       "  </thead>\n",
       "  <tbody>\n",
       "    <tr>\n",
       "      <th>0</th>\n",
       "      <td>0</td>\n",
       "    </tr>\n",
       "    <tr>\n",
       "      <th>1</th>\n",
       "      <td>1</td>\n",
       "    </tr>\n",
       "    <tr>\n",
       "      <th>2</th>\n",
       "      <td>0</td>\n",
       "    </tr>\n",
       "  </tbody>\n",
       "</table>\n",
       "</div>"
      ],
      "text/plain": [
       "   0\n",
       "0  0\n",
       "1  1\n",
       "2  0"
      ]
     },
     "execution_count": 55,
     "metadata": {},
     "output_type": "execute_result"
    }
   ],
   "source": [
    "target = pd.DataFrame(target)\n",
    "target"
   ]
  },
  {
   "cell_type": "code",
   "execution_count": 56,
   "metadata": {},
   "outputs": [
    {
     "data": {
      "text/html": [
       "<div>\n",
       "<style scoped>\n",
       "    .dataframe tbody tr th:only-of-type {\n",
       "        vertical-align: middle;\n",
       "    }\n",
       "\n",
       "    .dataframe tbody tr th {\n",
       "        vertical-align: top;\n",
       "    }\n",
       "\n",
       "    .dataframe thead th {\n",
       "        text-align: right;\n",
       "    }\n",
       "</style>\n",
       "<table border=\"1\" class=\"dataframe\">\n",
       "  <thead>\n",
       "    <tr style=\"text-align: right;\">\n",
       "      <th></th>\n",
       "      <th>0</th>\n",
       "    </tr>\n",
       "  </thead>\n",
       "  <tbody>\n",
       "    <tr>\n",
       "      <th>0</th>\n",
       "      <td>0.000000</td>\n",
       "    </tr>\n",
       "    <tr>\n",
       "      <th>1</th>\n",
       "      <td>0.212002</td>\n",
       "    </tr>\n",
       "    <tr>\n",
       "      <th>2</th>\n",
       "      <td>0.424004</td>\n",
       "    </tr>\n",
       "  </tbody>\n",
       "</table>\n",
       "</div>"
      ],
      "text/plain": [
       "          0\n",
       "0  0.000000\n",
       "1  0.212002\n",
       "2  0.424004"
      ]
     },
     "execution_count": 56,
     "metadata": {},
     "output_type": "execute_result"
    }
   ],
   "source": [
    "output"
   ]
  },
  {
   "cell_type": "code",
   "execution_count": 57,
   "metadata": {},
   "outputs": [],
   "source": [
    "def ssr(target, predicted):\n",
    "    return np.sum((target - predicted) ** 2)"
   ]
  },
  {
   "cell_type": "markdown",
   "metadata": {},
   "source": [
    "## Derivative of b3\n",
    "\n",
    "$$\\Large \\frac{dSSR}{db_3} = \\frac{dSSR}{d Predicted} \\cdot \\frac{d Predicted}{d b_3}$$\n",
    "\n",
    "\n",
    "$$\\Large \\frac{dSSR}{db_3} = \\sum_{i=1}^n{-2 \\cdot (Observed_i - Predicted_i)} \\cdot 1$$"
   ]
  },
  {
   "cell_type": "code",
   "execution_count": 217,
   "metadata": {},
   "outputs": [],
   "source": [
    "def derivative_of_b3_test(target, output):\n",
    "    summa = 0\n",
    "    for i in range(len(target)):\n",
    "        summa += (-2) * (target.iloc[i, 0] - output.iloc[i, 0])\n",
    "    return summa"
   ]
  },
  {
   "cell_type": "code",
   "execution_count": 218,
   "metadata": {},
   "outputs": [
    {
     "data": {
      "text/plain": [
       "-0.7279879538356002"
      ]
     },
     "execution_count": 218,
     "metadata": {},
     "output_type": "execute_result"
    }
   ],
   "source": [
    "derivative_of_b3_test(target, output)"
   ]
  },
  {
   "cell_type": "code",
   "execution_count": null,
   "metadata": {},
   "outputs": [],
   "source": []
  },
  {
   "cell_type": "code",
   "execution_count": 75,
   "metadata": {},
   "outputs": [],
   "source": [
    "def derivative_of_b3(target, output):\n",
    "    return np.sum((-2) * (target - output))[0]"
   ]
  },
  {
   "cell_type": "code",
   "execution_count": 76,
   "metadata": {},
   "outputs": [
    {
     "data": {
      "text/plain": [
       "-0.7279879538356002"
      ]
     },
     "execution_count": 76,
     "metadata": {},
     "output_type": "execute_result"
    }
   ],
   "source": [
    "derivative_of_b3(target, output)"
   ]
  },
  {
   "cell_type": "markdown",
   "metadata": {},
   "source": [
    "## Derivative of w3 and w4"
   ]
  },
  {
   "cell_type": "markdown",
   "metadata": {},
   "source": [
    "$$\\Large \\frac{dSSR}{dw_3} = \\frac{dSSR}{dPredicted} \\cdot \\frac{dPredicted}{dw_3}$$\n",
    "\n",
    "$$\\Large \\frac{dSSR}{dw_4} = \\frac{dSSR}{dPredicted} \\cdot \\frac{dPredicted}{dw_4}$$"
   ]
  },
  {
   "cell_type": "markdown",
   "metadata": {},
   "source": [
    "$$\\Large \\frac{dSSR}{dPredicted} = \\sum_{i=1}^n{-2 \\cdot (Observed_i - Predicted_i)}$$\n",
    "\n",
    "$$\\Large \\frac{dPredicted}{dw_3} = \\frac{d}{dw_3}(y_{1,i}w_3 + y_{2,i}w_4 + b_3) = y_{1,i}$$\n",
    "\n",
    "\n",
    "$$\\Large \\frac{dPredicted}{dw_4} = \\frac{d}{dw_4}(y_{1,i}w_3 + y_{2,i}w_4 + b_3) = y_{2,i}$$"
   ]
  },
  {
   "cell_type": "code",
   "execution_count": 231,
   "metadata": {},
   "outputs": [
    {
     "data": {
      "text/html": [
       "<div>\n",
       "<style scoped>\n",
       "    .dataframe tbody tr th:only-of-type {\n",
       "        vertical-align: middle;\n",
       "    }\n",
       "\n",
       "    .dataframe tbody tr th {\n",
       "        vertical-align: top;\n",
       "    }\n",
       "\n",
       "    .dataframe thead th {\n",
       "        text-align: right;\n",
       "    }\n",
       "</style>\n",
       "<table border=\"1\" class=\"dataframe\">\n",
       "  <thead>\n",
       "    <tr style=\"text-align: right;\">\n",
       "      <th></th>\n",
       "      <th>0</th>\n",
       "    </tr>\n",
       "  </thead>\n",
       "  <tbody>\n",
       "    <tr>\n",
       "      <th>0</th>\n",
       "      <td>-0.014993</td>\n",
       "    </tr>\n",
       "    <tr>\n",
       "      <th>1</th>\n",
       "      <td>0.060247</td>\n",
       "    </tr>\n",
       "  </tbody>\n",
       "</table>\n",
       "</div>"
      ],
      "text/plain": [
       "          0\n",
       "0 -0.014993\n",
       "1  0.060247"
      ]
     },
     "execution_count": 231,
     "metadata": {},
     "output_type": "execute_result"
    }
   ],
   "source": [
    "##-- запасной вариант: на выходе один и тот же ответ\n",
    "\n",
    "\n",
    "def derivative_weights_test(target, output, hidden1):\n",
    "    derivative = []\n",
    "    for i in range(hidden1.shape[1]):\n",
    "        summa = 0\n",
    "        for j in range(len(output)):\n",
    "            summa += (-2.) * (target.iloc[j, 0] - output.iloc[j, 0]) * hidden1.iloc[j, i]\n",
    "        derivative.append(summa)\n",
    "    return pd.DataFrame(derivative)\n",
    "\n",
    "gradient_weights = derivative_weights_test(target, output, hidden1)\n",
    "gradient_weights"
   ]
  },
  {
   "cell_type": "code",
   "execution_count": null,
   "metadata": {},
   "outputs": [],
   "source": []
  },
  {
   "cell_type": "code",
   "execution_count": 197,
   "metadata": {},
   "outputs": [],
   "source": [
    "def derivative_weights(target, output, hidden1):\n",
    "    return np.dot(((-2) * (target - output)).T, hidden1).T"
   ]
  },
  {
   "cell_type": "code",
   "execution_count": 198,
   "metadata": {},
   "outputs": [
    {
     "data": {
      "text/plain": [
       "array([[-0.01499303],\n",
       "       [ 0.06024695]])"
      ]
     },
     "execution_count": 198,
     "metadata": {},
     "output_type": "execute_result"
    }
   ],
   "source": [
    "gradient_weights = derivative_weights(target, output, hidden1)\n",
    "gradient_weights"
   ]
  },
  {
   "cell_type": "markdown",
   "metadata": {},
   "source": [
    "## Derivative of w1 and w2 and b1,b2"
   ]
  },
  {
   "cell_type": "markdown",
   "metadata": {},
   "source": [
    "$$\\Large \\frac{dSSR}{dw_1} = \\frac{dSSR}{dPredicted} \\cdot \\frac{dPredicted}{dy_1} \\cdot \\frac{dy_1}{dx_1} \\cdot \\frac{dx_1}{dw_1}$$\n",
    "\n",
    "$$\\Large \\frac{dSSR}{dw_2} = \\frac{dSSR}{dPredicted} \\cdot \\frac{dPredicted}{dy_2} \\cdot \\frac{dy_2}{dx_2} \\cdot \\frac{dx_2}{dw_2}$$"
   ]
  },
  {
   "cell_type": "markdown",
   "metadata": {},
   "source": [
    "$$\\Large \\frac{dSSR}{dPredicted} = \\sum_{i=1}^n{-2 \\cdot (Observed_i - Predicted_i)}$$\n",
    "\n",
    "$$\\Large \\frac{dPredicted}{dy_1} = \\frac{d}{dy_1}(y_{1,i}w_3 + y_{2,i}w_4 + b_3) = w_3$$\n",
    "\n",
    "\n",
    "$$\\Large \\frac{dy_1}{dx_1} = \\frac{d}{dx_1}ln(1 + e^x) = \\frac{e^x}{e^x + 1}$$\n",
    "\n",
    "$$\\Large \\frac{dx_1}{dw_1} = \\frac{d}{dw_1}(Input_i \\cdot w_1 + b_1) = Input_i$$"
   ]
  },
  {
   "cell_type": "code",
   "execution_count": 245,
   "metadata": {},
   "outputs": [],
   "source": [
    "def derivative_hidden_test(target, output, weights_2, X, n_neurons=2):\n",
    "    gradients_w = []\n",
    "    gradients_b = []\n",
    "    for i in range(n_neurons):\n",
    "        summa_w = 0.0\n",
    "        summa_b = 0.0\n",
    "        for j in range(len(X)):\n",
    "            summa_w += (-2.) * (target.iloc[j, 0] - output.iloc[j, 0]) * weights_2.iloc[i, 0] * (np.exp(X.iloc[j, 0]) / (1 + np.exp(X.iloc[j, 0]))) * X.iloc[j, 0]\n",
    "            summa_b += (-2.) * (target.iloc[j, 0] - output.iloc[j, 0]) * weights_2.iloc[i, 0] * (np.exp(X.iloc[j, 0]) / (1 + np.exp(X.iloc[j, 0])))\n",
    "        gradients_w.append(summa_w)\n",
    "        gradients_b.append(summa_b)\n",
    "    return pd.DataFrame(np.array(gradients_w)).T, np.array(gradients_b).T"
   ]
  },
  {
   "cell_type": "code",
   "execution_count": null,
   "metadata": {},
   "outputs": [],
   "source": []
  },
  {
   "cell_type": "code",
   "execution_count": 165,
   "metadata": {},
   "outputs": [],
   "source": [
    "def softmax_derivative(x):\n",
    "    return np.exp(x) / (1 + np.exp(x))"
   ]
  },
  {
   "cell_type": "code",
   "execution_count": 176,
   "metadata": {},
   "outputs": [],
   "source": [
    "def derivative_hidden(target, output, weights_2, X):\n",
    "    ssr_pred = (-2.) * (target - output)\n",
    "    \n",
    "    expon = softmax_derivative(output)\n",
    "    weights_deriv = np.dot(X.values.T, ssr_pred * expon) * weights_2\n",
    "    \n",
    "    biases_deriv = np.dot(np.dot(ssr_pred, weights_2.T).T, expon)\n",
    "    return pd.DataFrame(weights_deriv).T, biases_deriv.T "
   ]
  },
  {
   "cell_type": "code",
   "execution_count": 178,
   "metadata": {},
   "outputs": [
    {
     "data": {
      "text/html": [
       "<div>\n",
       "<style scoped>\n",
       "    .dataframe tbody tr th:only-of-type {\n",
       "        vertical-align: middle;\n",
       "    }\n",
       "\n",
       "    .dataframe tbody tr th {\n",
       "        vertical-align: top;\n",
       "    }\n",
       "\n",
       "    .dataframe thead th {\n",
       "        text-align: right;\n",
       "    }\n",
       "</style>\n",
       "<table border=\"1\" class=\"dataframe\">\n",
       "  <thead>\n",
       "    <tr style=\"text-align: right;\">\n",
       "      <th></th>\n",
       "      <th>0</th>\n",
       "      <th>1</th>\n",
       "    </tr>\n",
       "  </thead>\n",
       "  <tbody>\n",
       "    <tr>\n",
       "      <th>0</th>\n",
       "      <td>-0.063571</td>\n",
       "      <td>0.016684</td>\n",
       "    </tr>\n",
       "  </tbody>\n",
       "</table>\n",
       "</div>"
      ],
      "text/plain": [
       "          0         1\n",
       "0 -0.063571  0.016684"
      ]
     },
     "execution_count": 178,
     "metadata": {},
     "output_type": "execute_result"
    }
   ],
   "source": [
    "derivative_hidden(target, output, weights_2, X)[0]"
   ]
  },
  {
   "cell_type": "code",
   "execution_count": null,
   "metadata": {},
   "outputs": [],
   "source": []
  },
  {
   "cell_type": "code",
   "execution_count": 248,
   "metadata": {},
   "outputs": [],
   "source": [
    "def train(X, target, epochs=10, learning_rate = 0.1):\n",
    "    \n",
    "    weights_1, biases_1 = init_weights(X, 2)\n",
    "    \n",
    "    hidden1 = neuron_layer(X, weights_1, biases_1, activation=None)\n",
    "    \n",
    "    weights_2, biases_2 = init_weights(hidden1, 1, random_state=43)\n",
    "    output = neuron_layer(hidden1, weights_2, biases_2, activation=None)\n",
    "    for epoch in range(epochs):\n",
    "        error = ssr(target, output)\n",
    "        print(epoch, \": Error:\", np.array(error))\n",
    "        \n",
    "        ## b3\n",
    "        gradient_b3 = derivative_of_b3_test(target, output)\n",
    "        step_size_b3 = gradient_b3 * learning_rate\n",
    "        \n",
    "        biases_2 = np.array(biases_2 - step_size_b3)\n",
    "        \n",
    "        ##-- w3, w4  \n",
    "        gradient_weights = derivative_weights_test(target, output, hidden1)\n",
    "        step_size_weights = gradient_weights * learning_rate\n",
    "        weights_2 = weights_2 - step_size_weights\n",
    "        \n",
    "        ##-- w1, w2, b1, b2\n",
    "        gradient_weights_1_2, gradient_biases_1_2 = derivative_hidden(target, output, weights_2, X)\n",
    "        step_size_w_1_2 = gradient_weights_1_2 * learning_rate\n",
    "        step_size_b_1_2 = gradient_biases_1_2 * learning_rate\n",
    "        weights_1 = weights_1 - step_size_w_1_2\n",
    "        biases_1 = biases_1 - step_size_b_1_2\n",
    "        \n",
    "        \n",
    "        hidden1 = neuron_layer(X, weights_1, biases_1, activation=crossenthropy)\n",
    "        output = neuron_layer(hidden1, weights_2, biases_2, activation=None)\n",
    "    \n",
    "    return output"
   ]
  },
  {
   "cell_type": "code",
   "execution_count": 249,
   "metadata": {
    "scrolled": true
   },
   "outputs": [
    {
     "name": "stdout",
     "output_type": "stream",
     "text": [
      "0 : Error: [0.80072024]\n",
      "1 : Error: [1.4530628]\n",
      "2 : Error: [0.67200867]\n",
      "3 : Error: [0.67175416]\n",
      "4 : Error: [0.67158617]\n",
      "5 : Error: [0.67142384]\n",
      "6 : Error: [0.67126646]\n",
      "7 : Error: [0.67111385]\n",
      "8 : Error: [0.67096583]\n",
      "9 : Error: [0.67082223]\n",
      "10 : Error: [0.67068289]\n",
      "11 : Error: [0.67054765]\n",
      "12 : Error: [0.67041636]\n",
      "13 : Error: [0.67028887]\n",
      "14 : Error: [0.67016506]\n",
      "15 : Error: [0.67004479]\n",
      "16 : Error: [0.66992794]\n",
      "17 : Error: [0.66981439]\n",
      "18 : Error: [0.66970402]\n",
      "19 : Error: [0.66959672]\n",
      "20 : Error: [0.66949239]\n",
      "21 : Error: [0.66939094]\n",
      "22 : Error: [0.66929225]\n",
      "23 : Error: [0.66919625]\n",
      "24 : Error: [0.66910284]\n",
      "25 : Error: [0.66901193]\n",
      "26 : Error: [0.66892345]\n",
      "27 : Error: [0.66883732]\n",
      "28 : Error: [0.66875346]\n",
      "29 : Error: [0.6686718]\n",
      "30 : Error: [0.66859227]\n",
      "31 : Error: [0.6685148]\n",
      "32 : Error: [0.66843933]\n",
      "33 : Error: [0.6683658]\n",
      "34 : Error: [0.66829414]\n",
      "35 : Error: [0.66822431]\n",
      "36 : Error: [0.66815624]\n",
      "37 : Error: [0.66808988]\n",
      "38 : Error: [0.66802518]\n",
      "39 : Error: [0.66796209]\n",
      "40 : Error: [0.66790057]\n",
      "41 : Error: [0.66784056]\n",
      "42 : Error: [0.66778203]\n",
      "43 : Error: [0.66772493]\n",
      "44 : Error: [0.66766922]\n",
      "45 : Error: [0.66761486]\n",
      "46 : Error: [0.66756181]\n",
      "47 : Error: [0.66751004]\n",
      "48 : Error: [0.6674595]\n",
      "49 : Error: [0.66741017]\n",
      "50 : Error: [0.66736201]\n",
      "51 : Error: [0.66731499]\n",
      "52 : Error: [0.66726908]\n",
      "53 : Error: [0.66722424]\n",
      "54 : Error: [0.66718046]\n",
      "55 : Error: [0.66713769]\n",
      "56 : Error: [0.66709592]\n",
      "57 : Error: [0.66705511]\n",
      "58 : Error: [0.66701525]\n",
      "59 : Error: [0.6669763]\n",
      "60 : Error: [0.66693824]\n",
      "61 : Error: [0.66690106]\n",
      "62 : Error: [0.66686472]\n",
      "63 : Error: [0.6668292]\n",
      "64 : Error: [0.66679449]\n",
      "65 : Error: [0.66676056]\n",
      "66 : Error: [0.66672739]\n",
      "67 : Error: [0.66669497]\n",
      "68 : Error: [0.66666328]\n",
      "69 : Error: [0.66663229]\n",
      "70 : Error: [0.66660199]\n",
      "71 : Error: [0.66657236]\n",
      "72 : Error: [0.6665434]\n",
      "73 : Error: [0.66651507]\n",
      "74 : Error: [0.66648736]\n",
      "75 : Error: [0.66646027]\n",
      "76 : Error: [0.66643376]\n",
      "77 : Error: [0.66640784]\n",
      "78 : Error: [0.66638249]\n",
      "79 : Error: [0.66635769]\n",
      "80 : Error: [0.66633343]\n",
      "81 : Error: [0.66630969]\n",
      "82 : Error: [0.66628647]\n",
      "83 : Error: [0.66626375]\n",
      "84 : Error: [0.66624152]\n",
      "85 : Error: [0.66621978]\n",
      "86 : Error: [0.6661985]\n",
      "87 : Error: [0.66617767]\n",
      "88 : Error: [0.6661573]\n",
      "89 : Error: [0.66613736]\n",
      "90 : Error: [0.66611785]\n",
      "91 : Error: [0.66609875]\n",
      "92 : Error: [0.66608007]\n",
      "93 : Error: [0.66606178]\n",
      "94 : Error: [0.66604388]\n",
      "95 : Error: [0.66602636]\n",
      "96 : Error: [0.66600921]\n",
      "97 : Error: [0.66599242]\n",
      "98 : Error: [0.665976]\n",
      "99 : Error: [0.66595992]\n"
     ]
    },
    {
     "data": {
      "text/html": [
       "<div>\n",
       "<style scoped>\n",
       "    .dataframe tbody tr th:only-of-type {\n",
       "        vertical-align: middle;\n",
       "    }\n",
       "\n",
       "    .dataframe tbody tr th {\n",
       "        vertical-align: top;\n",
       "    }\n",
       "\n",
       "    .dataframe thead th {\n",
       "        text-align: right;\n",
       "    }\n",
       "</style>\n",
       "<table border=\"1\" class=\"dataframe\">\n",
       "  <thead>\n",
       "    <tr style=\"text-align: right;\">\n",
       "      <th></th>\n",
       "      <th>0</th>\n",
       "    </tr>\n",
       "  </thead>\n",
       "  <tbody>\n",
       "    <tr>\n",
       "      <th>0</th>\n",
       "      <td>0.306355</td>\n",
       "    </tr>\n",
       "    <tr>\n",
       "      <th>1</th>\n",
       "      <td>0.333877</td>\n",
       "    </tr>\n",
       "    <tr>\n",
       "      <th>2</th>\n",
       "      <td>0.358289</td>\n",
       "    </tr>\n",
       "  </tbody>\n",
       "</table>\n",
       "</div>"
      ],
      "text/plain": [
       "          0\n",
       "0  0.306355\n",
       "1  0.333877\n",
       "2  0.358289"
      ]
     },
     "execution_count": 249,
     "metadata": {},
     "output_type": "execute_result"
    }
   ],
   "source": [
    "train(X, target, epochs=100, learning_rate=0.1)"
   ]
  },
  {
   "cell_type": "code",
   "execution_count": null,
   "metadata": {},
   "outputs": [],
   "source": []
  }
 ],
 "metadata": {
  "kernelspec": {
   "display_name": "Python 3",
   "language": "python",
   "name": "python3"
  },
  "language_info": {
   "codemirror_mode": {
    "name": "ipython",
    "version": 3
   },
   "file_extension": ".py",
   "mimetype": "text/x-python",
   "name": "python",
   "nbconvert_exporter": "python",
   "pygments_lexer": "ipython3",
   "version": "3.7.6"
  }
 },
 "nbformat": 4,
 "nbformat_minor": 4
}
